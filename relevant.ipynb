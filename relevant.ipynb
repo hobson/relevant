{
 "metadata": {
  "name": "",
  "signature": "sha256:4376d590e84e879978810aab372a0c4e19251629ec60f4124bd6e9ba41cb1c06"
 },
 "nbformat": 3,
 "nbformat_minor": 0,
 "worksheets": [
  {
   "cells": [
    {
     "cell_type": "code",
     "collapsed": false,
     "input": [
      "import pandas as pd\n",
      "df = pd.DataFrame.from_csv('ds_test_final.csv')\n",
      "df.describe()"
     ],
     "language": "python",
     "metadata": {},
     "outputs": [
      {
       "html": [
        "<div style=\"max-height:1000px;max-width:1500px;overflow:auto;\">\n",
        "<table border=\"1\" class=\"dataframe\">\n",
        "  <thead>\n",
        "    <tr style=\"text-align: right;\">\n",
        "      <th></th>\n",
        "      <th>Fitted_residuals</th>\n",
        "      <th>Fitted_Values</th>\n",
        "      <th>V6</th>\n",
        "      <th>V23</th>\n",
        "      <th>V34</th>\n",
        "      <th>V76</th>\n",
        "    </tr>\n",
        "  </thead>\n",
        "  <tbody>\n",
        "    <tr>\n",
        "      <th>count</th>\n",
        "      <td> 2215.000000</td>\n",
        "      <td> 2215.000000</td>\n",
        "      <td>    2215.000000</td>\n",
        "      <td> 2215.000000</td>\n",
        "      <td> 2215.000000</td>\n",
        "      <td> 2215.000000</td>\n",
        "    </tr>\n",
        "    <tr>\n",
        "      <th>mean</th>\n",
        "      <td>    0.023772</td>\n",
        "      <td>  888.280968</td>\n",
        "      <td>   53117.984199</td>\n",
        "      <td>    6.801445</td>\n",
        "      <td>   11.620537</td>\n",
        "      <td>    2.640632</td>\n",
        "    </tr>\n",
        "    <tr>\n",
        "      <th>std</th>\n",
        "      <td>  569.907172</td>\n",
        "      <td>  232.829326</td>\n",
        "      <td>  204620.252853</td>\n",
        "      <td>    4.700335</td>\n",
        "      <td>    8.600352</td>\n",
        "      <td>    0.512686</td>\n",
        "    </tr>\n",
        "    <tr>\n",
        "      <th>min</th>\n",
        "      <td>-1379.053409</td>\n",
        "      <td> -109.411628</td>\n",
        "      <td>   10005.000000</td>\n",
        "      <td>    0.180000</td>\n",
        "      <td>    0.640000</td>\n",
        "      <td>    1.000000</td>\n",
        "    </tr>\n",
        "    <tr>\n",
        "      <th>25%</th>\n",
        "      <td> -472.148069</td>\n",
        "      <td>  746.587998</td>\n",
        "      <td>   14366.000000</td>\n",
        "      <td>    3.270000</td>\n",
        "      <td>    4.510000</td>\n",
        "      <td>    2.000000</td>\n",
        "    </tr>\n",
        "    <tr>\n",
        "      <th>50%</th>\n",
        "      <td>  -42.758007</td>\n",
        "      <td>  904.865463</td>\n",
        "      <td>   22792.000000</td>\n",
        "      <td>    5.610000</td>\n",
        "      <td>    9.330000</td>\n",
        "      <td>    3.000000</td>\n",
        "    </tr>\n",
        "    <tr>\n",
        "      <th>75%</th>\n",
        "      <td>  460.802717</td>\n",
        "      <td> 1039.812797</td>\n",
        "      <td>   43024.000000</td>\n",
        "      <td>    9.105000</td>\n",
        "      <td>   16.905000</td>\n",
        "      <td>    3.000000</td>\n",
        "    </tr>\n",
        "    <tr>\n",
        "      <th>max</th>\n",
        "      <td> 1399.255154</td>\n",
        "      <td> 1690.290748</td>\n",
        "      <td> 7322564.000000</td>\n",
        "      <td>   44.820000</td>\n",
        "      <td>   58.000000</td>\n",
        "      <td>    4.000000</td>\n",
        "    </tr>\n",
        "  </tbody>\n",
        "</table>\n",
        "</div>"
       ],
       "metadata": {},
       "output_type": "pyout",
       "prompt_number": 1,
       "text": [
        "       Fitted_residuals  Fitted_Values              V6          V23  \\\n",
        "count       2215.000000    2215.000000     2215.000000  2215.000000   \n",
        "mean           0.023772     888.280968    53117.984199     6.801445   \n",
        "std          569.907172     232.829326   204620.252853     4.700335   \n",
        "min        -1379.053409    -109.411628    10005.000000     0.180000   \n",
        "25%         -472.148069     746.587998    14366.000000     3.270000   \n",
        "50%          -42.758007     904.865463    22792.000000     5.610000   \n",
        "75%          460.802717    1039.812797    43024.000000     9.105000   \n",
        "max         1399.255154    1690.290748  7322564.000000    44.820000   \n",
        "\n",
        "               V34          V76  \n",
        "count  2215.000000  2215.000000  \n",
        "mean     11.620537     2.640632  \n",
        "std       8.600352     0.512686  \n",
        "min       0.640000     1.000000  \n",
        "25%       4.510000     2.000000  \n",
        "50%       9.330000     3.000000  \n",
        "75%      16.905000     3.000000  \n",
        "max      58.000000     4.000000  "
       ]
      }
     ],
     "prompt_number": 1
    },
    {
     "cell_type": "code",
     "collapsed": false,
     "input": [
      "df.isnull().sum()\n"
     ],
     "language": "python",
     "metadata": {},
     "outputs": [
      {
       "metadata": {},
       "output_type": "pyout",
       "prompt_number": 3,
       "text": [
        "Fitted_residuals    0\n",
        "Fitted_Values       0\n",
        "V6                  0\n",
        "V23                 0\n",
        "V34                 0\n",
        "V76                 0\n",
        "dtype: int64"
       ]
      }
     ],
     "prompt_number": 3
    },
    {
     "cell_type": "code",
     "collapsed": false,
     "input": [
      "from matplotlib import pyplot as plt\n",
      "df.hist()\n",
      "# need to config ipyn for inline  plots"
     ],
     "language": "python",
     "metadata": {},
     "outputs": []
    },
    {
     "cell_type": "code",
     "collapsed": false,
     "input": [],
     "language": "python",
     "metadata": {},
     "outputs": []
    }
   ],
   "metadata": {}
  }
 ]
}